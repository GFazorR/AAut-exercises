{
  "cells": [
    {
      "cell_type": "markdown",
      "metadata": {
        "id": "7vWhC1-mMyop"
      },
      "source": [
        "# # Classifiers comparison on texts with naive Bayes assumption\n",
        "\n",
        "In this session of laboratory we compare two models for categorical data probabilistic modeling: \n",
        "1. multivariate Bernoulli \n",
        "2. multinomial on a dataset \n",
        "\n",
        "We adopt a dataset on Twitter messages labelled with emotions (Joy vs Sadness).\n",
        "\n",
        "The following program shows the loading of the data from a file."
      ]
    },
    {
      "cell_type": "markdown",
      "metadata": {
        "id": "i70pgsCOMyop"
      },
      "source": [
        "Data are loaded into a matrix X adopting a sparse matrix representation, in order to save space and time.\n",
        "Sparse matrix representation (in the csr format) represents in three \"parallel\" arrays the value of the matrix cells that are different from zero and the indices of those matrix cells.\n",
        "The arrays are called: \n",
        "- data\n",
        "- row\n",
        "- col\n",
        "\n",
        "- data[i] stores the value of the matrix cell #i whose indexes are contained in row[i] and col[i] \n",
        "- row[i] stores the index of the row in the matrix of the cell #i, \n",
        "- col[i] stores the index of the column of the cell #i.\n"
      ]
    },
    {
      "cell_type": "markdown",
      "metadata": {
        "id": "Sktoeaw5Myop"
      },
      "source": [
        "The data file is in csv format.\n",
        "Any Twitter message has been preprocessed by a Natural Language pipeline which eliminated stop words and substituted the interesting document elements with an integer identifier.  \n",
        "The interesting document elements might be words, emoji or emoticons. The elements could be repeated in the same document and are uniquely identified in the documents by the same integer number (named \"element_id\" in the program). This \"element_id\" number will be used as the index of the column of the data matrix, for the purposes of storage of data.\n",
        "\n",
        "Each row of the CSV file reports the content of a document (a Twitter message).It is formed as a list of integer number pairs, followed by a string which is the label of the document (\"Joy\" or \"Sadness\").\n",
        "The first number of the pair is the identifier of a document element (the \"element_id\"); \n",
        "the second number of the pair is the count (frequency) of that element in that document.\n",
        "\n",
        "The dataset has:\n",
        "\n",
        "tot_n_docs (or rows in the file) =n_rows=11981\n",
        "\n",
        "n_features (total number of distinct words in the corpus)=11288\n",
        "\n"
      ]
    },
    {
      "cell_type": "markdown",
      "metadata": {
        "collapsed": true,
        "id": "Phlf-MPAMyop"
      },
      "source": [
        "The following program reads the data file and loads in a sparse way the matrix using the scipy.sparse library"
      ]
    },
    {
      "cell_type": "code",
      "execution_count": 118,
      "metadata": {
        "colab": {
          "base_uri": "https://localhost:8080/"
        },
        "id": "rMyi3U-ZMyop",
        "outputId": "39724efe-040d-470e-dd16-6ccf319e797a"
      },
      "outputs": [
        {
          "name": "stdout",
          "output_type": "stream",
          "text": [
            "final n_row=[0 0 0 ... 0 0 0]\n",
            "(11981, 11288)\n",
            "(11981,)\n"
          ]
        }
      ],
      "source": [
        "\n",
        "from numpy import ndarray, zeros\n",
        "import numpy as np\n",
        "import scipy\n",
        "from scipy.sparse import csr_matrix\n",
        "\n",
        "class_labels = [\"Joy\",\"Sadness\"]\n",
        "n_features=11288 # number of columns in the matrix = number of features (distinct elements in the documents)\n",
        "n_rows=11981 # number rows of the matrix\n",
        "n_elements=71474 # number of the existing values in the matrix (not empty, to be loaded in the matrix in a sparse way)\n",
        "\n",
        "#path_training=\"/Users/meo/Documents/Didattica/Laboratorio-15-16-Jupyter/\"\n",
        "path_training=\"../../Datasets/\"\n",
        "file_name=\"joy_sadness6000.txt\"\n",
        "\n",
        "# declare the row and col arrays with the indexes of the matrix cells (non empty) to be loaded from file\n",
        "# they are needed because the matrix is sparse and we load in the matrix only the elements which are present\n",
        "row=np.empty(n_elements, dtype=int)\n",
        "col=np.empty(n_elements, dtype=int)\n",
        "data=np.empty(n_elements, dtype=int)\n",
        "\n",
        "row_n=0 # number of current row to be read and managed\n",
        "cur_el=0 # position in the three arrays: row, col and data\n",
        "twitter_labels=[] # list of class labels (target array) of the documents (twitter) that will be read from the input file\n",
        "twitter_target=[] # list of 0/1 for class labels\n",
        "with open(path_training + file_name, \"r\") as fi:\n",
        "    for line in fi:\n",
        "        el_list=line.split(',')  # list of integers read from a row of the file\n",
        "        l=len(el_list)\n",
        "        last_el=el_list[l-1] # I grab the last element in the list which is the class label\n",
        "        class_name=last_el.strip() # eliminate the '\\n'\n",
        "        twitter_labels.append(class_name)\n",
        "        # twitter_labels contains the labels (Joy/Sadness); twitter_target contains 0/1 for the respective labels\n",
        "        if (class_name==class_labels[0]):\n",
        "           twitter_target.append(0)\n",
        "        else:\n",
        "           twitter_target.append(1)\n",
        "        i=0 # I start reading all the doc elements from the beginning of the list\n",
        "        while(i<(l-1)):\n",
        "            element_id=int(el_list[i]) # identifier of the element in the document equivalent to the column index\n",
        "            element_id=element_id-1 # the index starts from 0 (the read id starts from 1)\n",
        "            i=i+1\n",
        "            value_cell=int(el_list[i]) # make access to the following value in the file which is the count of the element in the documento \n",
        "            i=i+1\n",
        "            row[cur_el]=row_n # load the data in the three arrays: the first two are the row and col indexes; the last one is the matrix cell value\n",
        "            col[cur_el]=element_id\n",
        "            data[cur_el]=value_cell\n",
        "            cur_el=cur_el+1\n",
        "        row_n=row_n+1\n",
        "fi.close\n",
        "print(\"final n_row=\"+str(row))\n",
        "# loads the matrix by means of the indexes and the values in the three arrays just filled\n",
        "twitter_data=csr_matrix((data, (row, col)), shape=(n_rows, n_features)).toarray()\n",
        "# print(\"resulting matrix:\")\n",
        "# print(twitter_data)\n",
        "# print(twitter_labels)\n",
        "# print(twitter_target)\n",
        "\n",
        "print(twitter_data.shape)\n",
        "twitter_target = (np.array(twitter_target))\n",
        "print(twitter_target.shape)"
      ]
    },
    {
      "cell_type": "markdown",
      "metadata": {
        "collapsed": true,
        "id": "v4FHZONyMyoq"
      },
      "source": [
        "Write a program in the following cell that splits the data matrix in training and test set (by random selection) and predicts the class (Joy/Sadness) of the messages on the basis of the words. \n",
        "Consider the two possible models:\n",
        "multivariate Bernoulli and multinomial Bernoulli.\n",
        "Find the accuracy of the models and test is the observed differences are significant."
      ]
    },
    {
      "cell_type": "markdown",
      "metadata": {},
      "source": [
        "## Bernoulli NB"
      ]
    },
    {
      "cell_type": "code",
      "execution_count": 119,
      "metadata": {
        "id": "c44Vk519Myoq"
      },
      "outputs": [
        {
          "name": "stdout",
          "output_type": "stream",
          "text": [
            "(1199,)\n",
            "F1 Score: 0.950413223140496, Accuracy Score: <function accuracy_score at 0x000002B5D5A421F0>\n"
          ]
        }
      ],
      "source": [
        "from sklearn.model_selection import train_test_split, cross_val_score\n",
        "from sklearn.naive_bayes import BernoulliNB, MultinomialNB\n",
        "from sklearn.metrics import f1_score, accuracy_score, auc\n",
        "import matplotlib.pyplot as plt\n",
        "\n",
        "data_norm = np.clip(twitter_data, 0, 1)\n",
        "\n",
        "X_train, X_test, y_train, y_test = train_test_split(data_norm, \n",
        "                                                    twitter_target, \n",
        "                                                    test_size=.1, \n",
        "                                                    random_state=42)\n",
        "\n",
        "print(y_test.shape)\n",
        "\n",
        "bern_clf = BernoulliNB().fit(X_train, y_train)\n",
        "bern_predictions = bern_clf.predict(X_test)\n",
        "\n",
        "f1 = f1_score(y_test, bern_predictions)\n",
        "accuracy = accuracy_score(y_test, bern_predictions)\n",
        "print(f'F1 Score: {f1}, Accuracy Score: {accuracy_score}')\n",
        "\n"
      ]
    },
    {
      "cell_type": "code",
      "execution_count": 120,
      "metadata": {},
      "outputs": [
        {
          "name": "stdout",
          "output_type": "stream",
          "text": [
            "Best Accuracy: 0.970 at point (0.025,0.963)\n"
          ]
        },
        {
          "data": {
            "image/png": "[encoded data removed]",
            "text/plain": [
              "<Figure size 936x720 with 1 Axes>"
            ]
          },
          "metadata": {
            "needs_background": "light"
          },
          "output_type": "display_data"
        }
      ],
      "source": [
        "def peter_flack_roc(actual, predicted):\n",
        "    n_samples = len(actual)\n",
        "    pos = sum(actual)\n",
        "    neg = len(actual)-pos\n",
        "    data = np.c_[actual, predicted]\n",
        "    data = np.flip(data[data[:, 1].argsort()], axis=-1)\n",
        "    tpr,fpr,accs = list(),list(),list()\n",
        "    tp,fp = 0,0\n",
        "    x,y = 0,0\n",
        "    for item in data[:,2].astype(int):\n",
        "        if item:\n",
        "            tp+=1\n",
        "            y = tp/pos\n",
        "        else:\n",
        "            fp+=1\n",
        "            x = fp/neg \n",
        "        \n",
        "        tpr.append(y)\n",
        "        fpr.append(x)\n",
        "        accs.append((y*(pos/n_samples))+(neg/n_samples)-((pos/n_samples)*x))\n",
        "    return (np.array(tpr), np.array(fpr), np.array(accs))\n",
        "\n",
        "pern_proba =  bern_clf.predict_proba(X_test)\n",
        "bern_tpr, bern_fpr, bern_accs= peter_flack_roc(y_test, pern_proba)\n",
        "\n",
        "bern_auc = auc(bern_fpr,bern_tpr)\n",
        "bern_best_acc = np.max(bern_accs)\n",
        "bern_idx = np.argmax(bern_accs)\n",
        "print(f'Best Accuracy: {bern_best_acc:.3f} at point ({bern_fpr[bern_idx]:.3f},{bern_tpr[bern_idx]:.3f})')\n",
        "\n",
        "plt.figure(figsize=(13,10))\n",
        "plt.plot(bern_fpr,bern_tpr, label=f'BernoulliNB Roc AUC: {bern_auc:.3f}')\n",
        "plt.scatter(bern_fpr[bern_idx], bern_tpr[bern_idx], color='red', label=f'BernoulliNB best Acc: {bern_best_acc:.3f}')\n",
        "plt.legend(loc='lower right')\n",
        "plt.show()\n"
      ]
    },
    {
      "cell_type": "markdown",
      "metadata": {},
      "source": [
        "## Multinomial NB"
      ]
    },
    {
      "cell_type": "code",
      "execution_count": 121,
      "metadata": {},
      "outputs": [
        {
          "name": "stdout",
          "output_type": "stream",
          "text": [
            "F1 Score: 0.9497942386831275, Accuracy Score: <function accuracy_score at 0x000002B5D5A421F0>\n"
          ]
        }
      ],
      "source": [
        "X_train, X_test, y_train, y_test = train_test_split(twitter_data, \n",
        "                                                    twitter_target, \n",
        "                                                    test_size=.1,\n",
        "                                                    random_state=42)\n",
        "\n",
        "multi_clf = MultinomialNB().fit(X_train, y_train)\n",
        "multi_predictions = multi_clf.predict(X_test)\n",
        "f1 = f1_score(y_test, multi_predictions)\n",
        "accuracy = accuracy_score(y_test, multi_predictions)\n",
        "\n",
        "print(f'F1 Score: {f1}, Accuracy Score: {accuracy_score}')\n"
      ]
    },
    {
      "cell_type": "code",
      "execution_count": 122,
      "metadata": {},
      "outputs": [
        {
          "name": "stdout",
          "output_type": "stream",
          "text": [
            "Best Accuracy: 0.968 at point (0.025,0.959)\n"
          ]
        },
        {
          "data": {
            "image/png": "[encoded data removed]",
            "text/plain": [
              "<Figure size 936x720 with 1 Axes>"
            ]
          },
          "metadata": {
            "needs_background": "light"
          },
          "output_type": "display_data"
        }
      ],
      "source": [
        "mult_proba =  multi_clf.predict_proba(X_test)\n",
        "mult_tpr, mult_fpr, mult_accs = peter_flack_roc(y_test, mult_proba)\n",
        "\n",
        "mult_auc = auc(mult_fpr, mult_tpr)\n",
        "mult_best_acc = np.max(mult_accs)\n",
        "mult_idx = np.argmax(mult_accs)\n",
        "print(f'Best Accuracy: {mult_best_acc:.3f} at point ({mult_fpr[mult_idx]:.3f},{mult_tpr[mult_idx]:.3f})')\n",
        "\n",
        "plt.figure(figsize=(13,10))\n",
        "plt.plot(mult_fpr,mult_tpr, label=f'MultinomialNB Roc AUC: {mult_auc:.3f}')\n",
        "plt.scatter(mult_fpr[mult_idx], mult_tpr[mult_idx], color='red', label=f'Best Acc: {mult_best_acc:.3f}')\n",
        "\n",
        "plt.legend(loc='lower right')\n",
        "plt.show()\n"
      ]
    },
    {
      "cell_type": "markdown",
      "metadata": {},
      "source": [
        "## BernoulliNB Vs MultinomialNB"
      ]
    },
    {
      "cell_type": "code",
      "execution_count": 123,
      "metadata": {},
      "outputs": [
        {
          "name": "stdout",
          "output_type": "stream",
          "text": [
            "BernoulliNB > MultinomialNB in point: (0.025, 0.961), with accuracy: 0.969)\n",
            "BernoulliNB > MultinomialNB in point: (0.025, 0.963), with accuracy: 0.970)\n",
            "BernoulliNB > MultinomialNB in point: (0.026, 0.963), with accuracy: 0.969)\n",
            "BernoulliNB > MultinomialNB in point: (0.028, 0.963), with accuracy: 0.968)\n"
          ]
        },
        {
          "data": {
            "text/plain": [
              "<matplotlib.legend.Legend at 0x2b5b48a2100>"
            ]
          },
          "execution_count": 123,
          "metadata": {},
          "output_type": "execute_result"
        },
        {
          "data": {
            "image/png": "[encoded data removed]",
            "text/plain": [
              "<Figure size 936x720 with 1 Axes>"
            ]
          },
          "metadata": {
            "needs_background": "light"
          },
          "output_type": "display_data"
        }
      ],
      "source": [
        "\n",
        "pos = sum(y_test)\n",
        "neg = len(y_test) - pos\n",
        "slope = neg/pos\n",
        "x_sloped = np.linspace(0,1,100)\n",
        "y_sloped = slope*(x_sloped - mult_fpr[mult_idx]) + mult_tpr[mult_idx]\n",
        "\n",
        "plt.figure(figsize=(13,10))\n",
        "plt.xlim([-0.001,1.0])\n",
        "plt.ylim([0.0, 1.05])\n",
        "plt.plot(bern_fpr, bern_tpr, color='blue', label=f'BernoulliNB ROC AUC: {bern_auc:.3f}')\n",
        "plt.plot(mult_fpr, mult_tpr, color='green', label=f'MultinomialNB ROC AUC: {mult_auc:.3f}')\n",
        "plt.plot(x_sloped, y_sloped, color='red', label=f'Best Accuracy slope')\n",
        "plt.scatter(mult_fpr[mult_idx], mult_tpr[mult_idx], color='red', label=f'MultinomialNB best Accuracy: {mult_best_acc:.3f}')\n",
        "\n",
        "points = np.array(np.where(bern_accs>mult_best_acc))\n",
        "\n",
        "for j in points[0]:\n",
        "    print(f'BernoulliNB > MultinomialNB in point: ({bern_fpr[j]:.3f}, {bern_tpr[j]:.3f}), with accuracy: {bern_accs[j]:.3f})')\n",
        "    plt.scatter(bern_fpr[j], bern_tpr[j], color='black', label=f'BernoulliNB > MultinomialNB with acc: {bern_accs[j]:.3f}')\n",
        "plt.legend(loc='lower right')"
      ]
    },
    {
      "cell_type": "markdown",
      "metadata": {},
      "source": [
        "# Statistical test\n"
      ]
    },
    {
      "cell_type": "markdown",
      "metadata": {},
      "source": [
        "Statistical test to determine whether observed differences are statistically significant between probabilistic classifiers on Multivariate and Multinomial texts"
      ]
    },
    {
      "cell_type": "code",
      "execution_count": 125,
      "metadata": {},
      "outputs": [
        {
          "name": "stdout",
          "output_type": "stream",
          "text": [
            "BernoulliNB:\n",
            "Score fold 1: 0.9566305254378649\n",
            "Score fold 2: 0.9657762938230384\n",
            "Score fold 3: 0.9499165275459098\n",
            "Score fold 4: 0.9499165275459098\n",
            "Score fold 5: 0.9482470784641068\n",
            "Score fold 6: 0.9524207011686143\n",
            "Score fold 7: 0.9507512520868113\n",
            "Score fold 8: 0.9549248747913188\n",
            "Score fold 9: 0.9624373956594324\n",
            "Score fold 10: 0.9365609348914858\n",
            "AVG Accuracy Score: 0.953 (+/- 0.008)\n",
            "MultinomialNB:\n",
            "Score fold 1: 0.9541284403669725\n",
            "Score fold 2: 0.9649415692821369\n",
            "Score fold 3: 0.9499165275459098\n",
            "Score fold 4: 0.9482470784641068\n",
            "Score fold 5: 0.9440734557595993\n",
            "Score fold 6: 0.9474123539232053\n",
            "Score fold 7: 0.9490818030050083\n",
            "Score fold 8: 0.9499165275459098\n",
            "Score fold 9: 0.9616026711185309\n",
            "Score fold 10: 0.9373956594323873\n",
            "AVG Accuracy Score: 0.951 (+/- 0.008)\n"
          ]
        }
      ],
      "source": [
        "fold = 10\n",
        "\n",
        "clf_bern = BernoulliNB()\n",
        "scores_bnb = cross_val_score(clf_bern, twitter_data, twitter_target, cv=fold)\n",
        "print('BernoulliNB:')\n",
        "for i,v in enumerate(scores_bnb, start=1):\n",
        "    print(f'Score fold {i}: {v}')\n",
        "\n",
        "print(f'AVG Accuracy Score: {np.mean(scores_bnb):.3f} (+/- {np.std(scores_bnb):.3f})')\n",
        "\n",
        "clf_mult = MultinomialNB()\n",
        "scores_mult = cross_val_score(clf_mult, twitter_data, twitter_target, cv=fold)\n",
        "print('MultinomialNB:')\n",
        "for i,v in enumerate(scores_mult, start=1):\n",
        "    print(f'Score fold {i}: {v}')\n",
        "\n",
        "print(f'AVG Accuracy Score: {np.mean(scores_mult):.3f} (+/- {np.std(scores_mult):.3f})')"
      ]
    },
    {
      "cell_type": "code",
      "execution_count": 126,
      "metadata": {},
      "outputs": [
        {
          "name": "stdout",
          "output_type": "stream",
          "text": [
            "Alpha: 0.050\n",
            "T-statistic: 0.5809918432440697\n",
            "P-value: 0.568\n",
            "\n",
            "P-value >= Alpha ---> Same distribution (fail to reject H0)\n"
          ]
        }
      ],
      "source": [
        "from scipy.stats import ttest_ind\n",
        "\n",
        "t_statistic, p_value = ttest_ind(a=scores_bnb, b=scores_mult, axis=0)\n",
        "\n",
        "alpha = 0.05\n",
        "\n",
        "print(f'Alpha: {alpha:.3f}')\n",
        "print(f'T-statistic: {t_statistic}')\n",
        "print(f'P-value: {p_value:.3f}')\n",
        "\n",
        "if p_value > alpha:\n",
        "    print('\\nP-value >= Alpha ---> Same distribution (fail to reject H0)')\n",
        "else:\n",
        "    print('\\nP-value <= Alpha ---> Different distribution (reject H0)')"
      ]
    },
    {
      "cell_type": "code",
      "execution_count": null,
      "metadata": {},
      "outputs": [],
      "source": []
    }
  ],
  "metadata": {
    "anaconda-cloud": {},
    "colab": {
      "name": "classification_twitter_emotions_loading_data.ipynb",
      "provenance": []
    },
    "interpreter": {
      "hash": "98451e28e3924a86e2946b81fe2e06999bed2a7bc5e24698052c48b53ce70c96"
    },
    "kernelspec": {
      "display_name": "Python [conda env:aaaid]",
      "language": "python",
      "name": "python3"
    },
    "language_info": {
      "codemirror_mode": {
        "name": "ipython",
        "version": 3
      },
      "file_extension": ".py",
      "mimetype": "text/x-python",
      "name": "python",
      "nbconvert_exporter": "python",
      "pygments_lexer": "ipython3",
      "version": "3.8.12"
    }
  },
  "nbformat": 4,
  "nbformat_minor": 0
}
